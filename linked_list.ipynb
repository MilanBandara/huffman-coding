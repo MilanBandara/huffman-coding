{
 "cells": [
  {
   "cell_type": "code",
   "execution_count": 1,
   "metadata": {},
   "outputs": [
    {
     "name": "stdout",
     "output_type": "stream",
     "text": [
      "3\n",
      "2\n",
      "1\n"
     ]
    }
   ],
   "source": [
    "class Node:\n",
    "    def __init__(self, data):\n",
    "        self.data = data\n",
    "        self.next = None\n",
    "\n",
    "class LinkedList:\n",
    "    def __init__(self):\n",
    "        self.head = None\n",
    "\n",
    "    def insert_at_begging(self, data):\n",
    "        new_node = Node(data)\n",
    "        new_node.next = self.head\n",
    "        self.head = new_node\n",
    "\n",
    "    def insert_at_location(self, data,location):\n",
    "        new_node = Node(data)\n",
    "        current_node = self.head\n",
    "        previous_node = None\n",
    "        index = 0\n",
    "        while index <= location:\n",
    "            if index == location:\n",
    "                #do something\n",
    "            else:\n",
    "                previous_node = current_node\n",
    "                index = index + 1\n",
    "\n",
    "    def print_list(self):\n",
    "        current_node = self.head\n",
    "        while current_node:\n",
    "            print(current_node.data)\n",
    "            current_node = current_node.next\n",
    "\n",
    "# Create a new linked list\n",
    "linked_list = LinkedList()\n",
    "\n",
    "# Insert some data into the linked list\n",
    "linked_list.insert_at_begging(1)\n",
    "linked_list.insert_at_begging(2)\n",
    "linked_list.insert_at_begging(3)\n",
    "\n",
    "# Print the linked list\n",
    "linked_list.print_list()\n"
   ]
  },
  {
   "cell_type": "code",
   "execution_count": null,
   "metadata": {},
   "outputs": [],
   "source": []
  }
 ],
 "metadata": {
  "kernelspec": {
   "display_name": "Python 3",
   "language": "python",
   "name": "python3"
  },
  "language_info": {
   "codemirror_mode": {
    "name": "ipython",
    "version": 3
   },
   "file_extension": ".py",
   "mimetype": "text/x-python",
   "name": "python",
   "nbconvert_exporter": "python",
   "pygments_lexer": "ipython3",
   "version": "3.9.0"
  }
 },
 "nbformat": 4,
 "nbformat_minor": 2
}
